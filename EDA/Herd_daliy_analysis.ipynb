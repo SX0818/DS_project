{
 "cells": [
  {
   "cell_type": "markdown",
   "id": "942be4c1",
   "metadata": {},
   "source": [
    "Using method from paper: Predicting the milk yield curve of dairy cows in the subsequent lactation\n",
    "\n",
    "Dataset: Merged_Sorted_Data_Herd_Daily PS: cloud has made changes to this file"
   ]
  },
  {
   "cell_type": "markdown",
   "id": "5ef5cab0",
   "metadata": {},
   "source": [
    "### data preprocessing:"
   ]
  },
  {
   "cell_type": "code",
   "execution_count": 3,
   "id": "f3264e9d",
   "metadata": {},
   "outputs": [
    {
     "data": {
      "text/html": [
       "<div>\n",
       "<style scoped>\n",
       "    .dataframe tbody tr th:only-of-type {\n",
       "        vertical-align: middle;\n",
       "    }\n",
       "\n",
       "    .dataframe tbody tr th {\n",
       "        vertical-align: top;\n",
       "    }\n",
       "\n",
       "    .dataframe thead th {\n",
       "        text-align: right;\n",
       "    }\n",
       "</style>\n",
       "<table border=\"1\" class=\"dataframe\">\n",
       "  <thead>\n",
       "    <tr style=\"text-align: right;\">\n",
       "      <th></th>\n",
       "      <th>Herd Name</th>\n",
       "      <th>Date</th>\n",
       "      <th>Lac Avg Days</th>\n",
       "      <th>Weight</th>\n",
       "      <th>Rumination Minutes</th>\n",
       "      <th>Total feed</th>\n",
       "      <th>Average cell count</th>\n",
       "      <th>Day production</th>\n",
       "      <th>Expected Daily Yield</th>\n",
       "      <th>Fat indication</th>\n",
       "      <th>Fat/Protein Ratio</th>\n",
       "      <th>Protein indication</th>\n",
       "      <th>Concentrate / 100 kg Milk</th>\n",
       "      <th>Number of milkings</th>\n",
       "      <th>Total Amount of Milk Produced</th>\n",
       "      <th>Amount of Milk Separated</th>\n",
       "    </tr>\n",
       "  </thead>\n",
       "  <tbody>\n",
       "    <tr>\n",
       "      <th>0</th>\n",
       "      <td>Main Herd</td>\n",
       "      <td>2016-04-29</td>\n",
       "      <td>226</td>\n",
       "      <td>710.70</td>\n",
       "      <td>375</td>\n",
       "      <td>NaN</td>\n",
       "      <td>100.0</td>\n",
       "      <td>28.5</td>\n",
       "      <td>30.4</td>\n",
       "      <td>4.49</td>\n",
       "      <td>1.22</td>\n",
       "      <td>3.68</td>\n",
       "      <td>NaN</td>\n",
       "      <td>3.1</td>\n",
       "      <td>4105.6</td>\n",
       "      <td>135.6</td>\n",
       "    </tr>\n",
       "    <tr>\n",
       "      <th>1</th>\n",
       "      <td>Main Herd</td>\n",
       "      <td>2016-04-30</td>\n",
       "      <td>227</td>\n",
       "      <td>715.19</td>\n",
       "      <td>379</td>\n",
       "      <td>1683.0</td>\n",
       "      <td>107.0</td>\n",
       "      <td>27.4</td>\n",
       "      <td>30.1</td>\n",
       "      <td>4.38</td>\n",
       "      <td>1.22</td>\n",
       "      <td>3.58</td>\n",
       "      <td>44.71</td>\n",
       "      <td>3.2</td>\n",
       "      <td>3952.1</td>\n",
       "      <td>146.7</td>\n",
       "    </tr>\n",
       "    <tr>\n",
       "      <th>2</th>\n",
       "      <td>Main Herd</td>\n",
       "      <td>2016-05-01</td>\n",
       "      <td>228</td>\n",
       "      <td>707.96</td>\n",
       "      <td>437</td>\n",
       "      <td>1682.0</td>\n",
       "      <td>113.0</td>\n",
       "      <td>24.5</td>\n",
       "      <td>29.7</td>\n",
       "      <td>4.42</td>\n",
       "      <td>1.25</td>\n",
       "      <td>3.54</td>\n",
       "      <td>43.14</td>\n",
       "      <td>3.0</td>\n",
       "      <td>3534.7</td>\n",
       "      <td>137.4</td>\n",
       "    </tr>\n",
       "    <tr>\n",
       "      <th>3</th>\n",
       "      <td>Main Herd</td>\n",
       "      <td>2016-05-02</td>\n",
       "      <td>229</td>\n",
       "      <td>714.28</td>\n",
       "      <td>409</td>\n",
       "      <td>1825.0</td>\n",
       "      <td>156.0</td>\n",
       "      <td>24.9</td>\n",
       "      <td>29.3</td>\n",
       "      <td>4.77</td>\n",
       "      <td>1.38</td>\n",
       "      <td>3.47</td>\n",
       "      <td>41.60</td>\n",
       "      <td>2.8</td>\n",
       "      <td>3584.9</td>\n",
       "      <td>125.5</td>\n",
       "    </tr>\n",
       "    <tr>\n",
       "      <th>4</th>\n",
       "      <td>Main Herd</td>\n",
       "      <td>2016-05-03</td>\n",
       "      <td>228</td>\n",
       "      <td>722.51</td>\n",
       "      <td>373</td>\n",
       "      <td>1544.0</td>\n",
       "      <td>131.0</td>\n",
       "      <td>28.2</td>\n",
       "      <td>29.1</td>\n",
       "      <td>4.46</td>\n",
       "      <td>1.34</td>\n",
       "      <td>3.32</td>\n",
       "      <td>39.77</td>\n",
       "      <td>2.8</td>\n",
       "      <td>4087.3</td>\n",
       "      <td>165.7</td>\n",
       "    </tr>\n",
       "  </tbody>\n",
       "</table>\n",
       "</div>"
      ],
      "text/plain": [
       "   Herd Name       Date  Lac Avg Days  Weight  Rumination Minutes  Total feed  \\\n",
       "0  Main Herd 2016-04-29           226  710.70                 375         NaN   \n",
       "1  Main Herd 2016-04-30           227  715.19                 379      1683.0   \n",
       "2  Main Herd 2016-05-01           228  707.96                 437      1682.0   \n",
       "3  Main Herd 2016-05-02           229  714.28                 409      1825.0   \n",
       "4  Main Herd 2016-05-03           228  722.51                 373      1544.0   \n",
       "\n",
       "   Average cell count  Day production  Expected Daily Yield  Fat indication  \\\n",
       "0               100.0            28.5                  30.4            4.49   \n",
       "1               107.0            27.4                  30.1            4.38   \n",
       "2               113.0            24.5                  29.7            4.42   \n",
       "3               156.0            24.9                  29.3            4.77   \n",
       "4               131.0            28.2                  29.1            4.46   \n",
       "\n",
       "   Fat/Protein Ratio  Protein indication  Concentrate / 100 kg Milk  \\\n",
       "0               1.22                3.68                        NaN   \n",
       "1               1.22                3.58                      44.71   \n",
       "2               1.25                3.54                      43.14   \n",
       "3               1.38                3.47                      41.60   \n",
       "4               1.34                3.32                      39.77   \n",
       "\n",
       "   Number of milkings  Total Amount of Milk Produced  Amount of Milk Separated  \n",
       "0                 3.1                         4105.6                     135.6  \n",
       "1                 3.2                         3952.1                     146.7  \n",
       "2                 3.0                         3534.7                     137.4  \n",
       "3                 2.8                         3584.9                     125.5  \n",
       "4                 2.8                         4087.3                     165.7  "
      ]
     },
     "execution_count": 3,
     "metadata": {},
     "output_type": "execute_result"
    }
   ],
   "source": [
    "import pandas as pd\n",
    "\n",
    "# Load the Excel file\n",
    "file_path = 'C:/Users/13593/Desktop/dsp/Data Analysis/Merged_Sorted_Data_Herd_Daily.xlsx'\n",
    "data = pd.read_excel(file_path, sheet_name='Sheet1')\n",
    "print(data.head())"
   ]
  },
  {
   "cell_type": "markdown",
   "id": "2b501ce1",
   "metadata": {},
   "source": [
    "Missing values in the data:"
   ]
  },
  {
   "cell_type": "code",
   "execution_count": 4,
   "id": "e210d5a2",
   "metadata": {
    "scrolled": true
   },
   "outputs": [
    {
     "name": "stdout",
     "output_type": "stream",
     "text": [
      "Herd Name                          0\n",
      "Date                               0\n",
      "Lac Avg Days                       0\n",
      "Weight                             0\n",
      "Rumination Minutes                 0\n",
      "Total feed                         1\n",
      "Average cell count               459\n",
      "Day production                     0\n",
      "Expected Daily Yield               0\n",
      "Fat indication                     0\n",
      "Fat/Protein Ratio                  0\n",
      "Protein indication                 0\n",
      "Concentrate / 100 kg Milk          2\n",
      "Number of milkings                 0\n",
      "Total Amount of Milk Produced      0\n",
      "Amount of Milk Separated           0\n",
      "dtype: int64\n"
     ]
    }
   ],
   "source": [
    "print(data.isnull().sum())"
   ]
  },
  {
   "cell_type": "markdown",
   "id": "ac3a28da",
   "metadata": {},
   "source": [
    "Fill in the missing values with the median"
   ]
  },
  {
   "cell_type": "code",
   "execution_count": 5,
   "id": "bc1f8cc1",
   "metadata": {},
   "outputs": [
    {
     "name": "stdout",
     "output_type": "stream",
     "text": [
      "Herd Name                        0\n",
      "Date                             0\n",
      "Lac Avg Days                     0\n",
      "Weight                           0\n",
      "Rumination Minutes               0\n",
      "Total feed                       0\n",
      "Average cell count               0\n",
      "Day production                   0\n",
      "Expected Daily Yield             0\n",
      "Fat indication                   0\n",
      "Fat/Protein Ratio                0\n",
      "Protein indication               0\n",
      "Concentrate / 100 kg Milk        0\n",
      "Number of milkings               0\n",
      "Total Amount of Milk Produced    0\n",
      "Amount of Milk Separated         0\n",
      "dtype: int64\n"
     ]
    }
   ],
   "source": [
    "data_filled = data.fillna(data.median(numeric_only=True))\n",
    "print(data_filled.isnull().sum())"
   ]
  },
  {
   "cell_type": "markdown",
   "id": "22c98225",
   "metadata": {},
   "source": [
    "Change cloumn name"
   ]
  },
  {
   "cell_type": "code",
   "execution_count": 6,
   "id": "8a2f8e05",
   "metadata": {},
   "outputs": [
    {
     "data": {
      "text/html": [
       "<div>\n",
       "<style scoped>\n",
       "    .dataframe tbody tr th:only-of-type {\n",
       "        vertical-align: middle;\n",
       "    }\n",
       "\n",
       "    .dataframe tbody tr th {\n",
       "        vertical-align: top;\n",
       "    }\n",
       "\n",
       "    .dataframe thead th {\n",
       "        text-align: right;\n",
       "    }\n",
       "</style>\n",
       "<table border=\"1\" class=\"dataframe\">\n",
       "  <thead>\n",
       "    <tr style=\"text-align: right;\">\n",
       "      <th></th>\n",
       "      <th>Herd_Name</th>\n",
       "      <th>Date</th>\n",
       "      <th>Lac_Avg_Days</th>\n",
       "      <th>Weight</th>\n",
       "      <th>Rumination_Minutes</th>\n",
       "      <th>Total_feed</th>\n",
       "      <th>Average_cell_count</th>\n",
       "      <th>Day_production</th>\n",
       "      <th>Expected_Daily_Yield</th>\n",
       "      <th>Fat_indication</th>\n",
       "      <th>Fat/Protein_Ratio</th>\n",
       "      <th>Protein_indication</th>\n",
       "      <th>Concentrate_/_100_kg_Milk</th>\n",
       "      <th>Number_of_milkings</th>\n",
       "      <th>Total_Amount_of_Milk_Produced</th>\n",
       "      <th>Amount_of_Milk_Separated</th>\n",
       "    </tr>\n",
       "  </thead>\n",
       "  <tbody>\n",
       "    <tr>\n",
       "      <th>0</th>\n",
       "      <td>Main Herd</td>\n",
       "      <td>2016-04-29</td>\n",
       "      <td>226</td>\n",
       "      <td>710.70</td>\n",
       "      <td>375</td>\n",
       "      <td>1186.0</td>\n",
       "      <td>100.0</td>\n",
       "      <td>28.5</td>\n",
       "      <td>30.4</td>\n",
       "      <td>4.49</td>\n",
       "      <td>1.22</td>\n",
       "      <td>3.68</td>\n",
       "      <td>31.40</td>\n",
       "      <td>3.1</td>\n",
       "      <td>4105.6</td>\n",
       "      <td>135.6</td>\n",
       "    </tr>\n",
       "    <tr>\n",
       "      <th>1</th>\n",
       "      <td>Main Herd</td>\n",
       "      <td>2016-04-30</td>\n",
       "      <td>227</td>\n",
       "      <td>715.19</td>\n",
       "      <td>379</td>\n",
       "      <td>1683.0</td>\n",
       "      <td>107.0</td>\n",
       "      <td>27.4</td>\n",
       "      <td>30.1</td>\n",
       "      <td>4.38</td>\n",
       "      <td>1.22</td>\n",
       "      <td>3.58</td>\n",
       "      <td>44.71</td>\n",
       "      <td>3.2</td>\n",
       "      <td>3952.1</td>\n",
       "      <td>146.7</td>\n",
       "    </tr>\n",
       "    <tr>\n",
       "      <th>2</th>\n",
       "      <td>Main Herd</td>\n",
       "      <td>2016-05-01</td>\n",
       "      <td>228</td>\n",
       "      <td>707.96</td>\n",
       "      <td>437</td>\n",
       "      <td>1682.0</td>\n",
       "      <td>113.0</td>\n",
       "      <td>24.5</td>\n",
       "      <td>29.7</td>\n",
       "      <td>4.42</td>\n",
       "      <td>1.25</td>\n",
       "      <td>3.54</td>\n",
       "      <td>43.14</td>\n",
       "      <td>3.0</td>\n",
       "      <td>3534.7</td>\n",
       "      <td>137.4</td>\n",
       "    </tr>\n",
       "    <tr>\n",
       "      <th>3</th>\n",
       "      <td>Main Herd</td>\n",
       "      <td>2016-05-02</td>\n",
       "      <td>229</td>\n",
       "      <td>714.28</td>\n",
       "      <td>409</td>\n",
       "      <td>1825.0</td>\n",
       "      <td>156.0</td>\n",
       "      <td>24.9</td>\n",
       "      <td>29.3</td>\n",
       "      <td>4.77</td>\n",
       "      <td>1.38</td>\n",
       "      <td>3.47</td>\n",
       "      <td>41.60</td>\n",
       "      <td>2.8</td>\n",
       "      <td>3584.9</td>\n",
       "      <td>125.5</td>\n",
       "    </tr>\n",
       "    <tr>\n",
       "      <th>4</th>\n",
       "      <td>Main Herd</td>\n",
       "      <td>2016-05-03</td>\n",
       "      <td>228</td>\n",
       "      <td>722.51</td>\n",
       "      <td>373</td>\n",
       "      <td>1544.0</td>\n",
       "      <td>131.0</td>\n",
       "      <td>28.2</td>\n",
       "      <td>29.1</td>\n",
       "      <td>4.46</td>\n",
       "      <td>1.34</td>\n",
       "      <td>3.32</td>\n",
       "      <td>39.77</td>\n",
       "      <td>2.8</td>\n",
       "      <td>4087.3</td>\n",
       "      <td>165.7</td>\n",
       "    </tr>\n",
       "  </tbody>\n",
       "</table>\n",
       "</div>"
      ],
      "text/plain": [
       "   Herd_Name       Date  Lac_Avg_Days  Weight  Rumination_Minutes  Total_feed  \\\n",
       "0  Main Herd 2016-04-29           226  710.70                 375      1186.0   \n",
       "1  Main Herd 2016-04-30           227  715.19                 379      1683.0   \n",
       "2  Main Herd 2016-05-01           228  707.96                 437      1682.0   \n",
       "3  Main Herd 2016-05-02           229  714.28                 409      1825.0   \n",
       "4  Main Herd 2016-05-03           228  722.51                 373      1544.0   \n",
       "\n",
       "   Average_cell_count  Day_production  Expected_Daily_Yield  Fat_indication  \\\n",
       "0               100.0            28.5                  30.4            4.49   \n",
       "1               107.0            27.4                  30.1            4.38   \n",
       "2               113.0            24.5                  29.7            4.42   \n",
       "3               156.0            24.9                  29.3            4.77   \n",
       "4               131.0            28.2                  29.1            4.46   \n",
       "\n",
       "   Fat/Protein_Ratio  Protein_indication  Concentrate_/_100_kg_Milk  \\\n",
       "0               1.22                3.68                      31.40   \n",
       "1               1.22                3.58                      44.71   \n",
       "2               1.25                3.54                      43.14   \n",
       "3               1.38                3.47                      41.60   \n",
       "4               1.34                3.32                      39.77   \n",
       "\n",
       "   Number_of_milkings  Total_Amount_of_Milk_Produced  Amount_of_Milk_Separated  \n",
       "0                 3.1                         4105.6                     135.6  \n",
       "1                 3.2                         3952.1                     146.7  \n",
       "2                 3.0                         3534.7                     137.4  \n",
       "3                 2.8                         3584.9                     125.5  \n",
       "4                 2.8                         4087.3                     165.7  "
      ]
     },
     "execution_count": 6,
     "metadata": {},
     "output_type": "execute_result"
    }
   ],
   "source": [
    "data_filled = data_filled.rename(columns=lambda x: x.replace(' ', '_'))\n",
    "print(data_filled.head())"
   ]
  },
  {
   "cell_type": "markdown",
   "id": "060e5040",
   "metadata": {},
   "source": [
    "### SAE 预测缺失值"
   ]
  },
  {
   "cell_type": "code",
   "execution_count": 7,
   "id": "be47d75f",
   "metadata": {},
   "outputs": [],
   "source": [
    "# 将数据转换为适合 LSTM 输入的格式。\n",
    "\n",
    "from sklearn.model_selection import train_test_split\n",
    "import numpy as np\n",
    "\n",
    "# 选择数值型特征列\n",
    "numeric_cols = data_filled.select_dtypes(include=['float64', 'int64']).columns\n",
    "X = data_filled[numeric_cols].values  # 将数据转化为数组\n",
    "\n",
    "# 为了构建SAE模型，首先需要将数据重构为3D格式 (样本数, 时间步数, 特征数)\n",
    "# 假设每10天为一个时间序列段，可以根据实际情况调整\n",
    "timesteps = 10\n",
    "n_features = X.shape[1]\n",
    "\n",
    "# 将数据转换为LSTM输入格式\n",
    "X_sequence = []\n",
    "for i in range(len(X) - timesteps):\n",
    "    X_sequence.append(X[i:i+timesteps])\n",
    "\n",
    "X_sequence = np.array(X_sequence)  # 转换为3D数组 (样本数, 时间步长, 特征数)\n",
    "\n",
    "# 将数据集划分为训练集和测试集\n",
    "X_train, X_test = train_test_split(X_sequence, test_size=0.2, random_state=42)"
   ]
  },
  {
   "cell_type": "code",
   "execution_count": 8,
   "id": "aaf1f350",
   "metadata": {},
   "outputs": [
    {
     "data": {
      "text/html": [
       "<pre style=\"white-space:pre;overflow-x:auto;line-height:normal;font-family:Menlo,'DejaVu Sans Mono',consolas,'Courier New',monospace\"><span style=\"font-weight: bold\">Model: \"functional\"</span>\n",
       "</pre>\n"
      ],
      "text/plain": [
       "\u001b[1mModel: \"functional\"\u001b[0m\n"
      ]
     },
     "metadata": {},
     "output_type": "display_data"
    },
    {
     "data": {
      "text/html": [
       "<pre style=\"white-space:pre;overflow-x:auto;line-height:normal;font-family:Menlo,'DejaVu Sans Mono',consolas,'Courier New',monospace\">┏━━━━━━━━━━━━━━━━━━━━━━━━━━━━━━━━━━━━━━┳━━━━━━━━━━━━━━━━━━━━━━━━━━━━━┳━━━━━━━━━━━━━━━━━┓\n",
       "┃<span style=\"font-weight: bold\"> Layer (type)                         </span>┃<span style=\"font-weight: bold\"> Output Shape                </span>┃<span style=\"font-weight: bold\">         Param # </span>┃\n",
       "┡━━━━━━━━━━━━━━━━━━━━━━━━━━━━━━━━━━━━━━╇━━━━━━━━━━━━━━━━━━━━━━━━━━━━━╇━━━━━━━━━━━━━━━━━┩\n",
       "│ input_layer (<span style=\"color: #0087ff; text-decoration-color: #0087ff\">InputLayer</span>)             │ (<span style=\"color: #00d7ff; text-decoration-color: #00d7ff\">None</span>, <span style=\"color: #00af00; text-decoration-color: #00af00\">10</span>, <span style=\"color: #00af00; text-decoration-color: #00af00\">14</span>)              │               <span style=\"color: #00af00; text-decoration-color: #00af00\">0</span> │\n",
       "├──────────────────────────────────────┼─────────────────────────────┼─────────────────┤\n",
       "│ lstm (<span style=\"color: #0087ff; text-decoration-color: #0087ff\">LSTM</span>)                          │ (<span style=\"color: #00d7ff; text-decoration-color: #00d7ff\">None</span>, <span style=\"color: #00af00; text-decoration-color: #00af00\">128</span>)                 │          <span style=\"color: #00af00; text-decoration-color: #00af00\">73,216</span> │\n",
       "├──────────────────────────────────────┼─────────────────────────────┼─────────────────┤\n",
       "│ repeat_vector (<span style=\"color: #0087ff; text-decoration-color: #0087ff\">RepeatVector</span>)         │ (<span style=\"color: #00d7ff; text-decoration-color: #00d7ff\">None</span>, <span style=\"color: #00af00; text-decoration-color: #00af00\">10</span>, <span style=\"color: #00af00; text-decoration-color: #00af00\">128</span>)             │               <span style=\"color: #00af00; text-decoration-color: #00af00\">0</span> │\n",
       "├──────────────────────────────────────┼─────────────────────────────┼─────────────────┤\n",
       "│ lstm_1 (<span style=\"color: #0087ff; text-decoration-color: #0087ff\">LSTM</span>)                        │ (<span style=\"color: #00d7ff; text-decoration-color: #00d7ff\">None</span>, <span style=\"color: #00af00; text-decoration-color: #00af00\">10</span>, <span style=\"color: #00af00; text-decoration-color: #00af00\">128</span>)             │         <span style=\"color: #00af00; text-decoration-color: #00af00\">131,584</span> │\n",
       "├──────────────────────────────────────┼─────────────────────────────┼─────────────────┤\n",
       "│ time_distributed (<span style=\"color: #0087ff; text-decoration-color: #0087ff\">TimeDistributed</span>)   │ (<span style=\"color: #00d7ff; text-decoration-color: #00d7ff\">None</span>, <span style=\"color: #00af00; text-decoration-color: #00af00\">10</span>, <span style=\"color: #00af00; text-decoration-color: #00af00\">14</span>)              │           <span style=\"color: #00af00; text-decoration-color: #00af00\">1,806</span> │\n",
       "└──────────────────────────────────────┴─────────────────────────────┴─────────────────┘\n",
       "</pre>\n"
      ],
      "text/plain": [
       "┏━━━━━━━━━━━━━━━━━━━━━━━━━━━━━━━━━━━━━━┳━━━━━━━━━━━━━━━━━━━━━━━━━━━━━┳━━━━━━━━━━━━━━━━━┓\n",
       "┃\u001b[1m \u001b[0m\u001b[1mLayer (type)                        \u001b[0m\u001b[1m \u001b[0m┃\u001b[1m \u001b[0m\u001b[1mOutput Shape               \u001b[0m\u001b[1m \u001b[0m┃\u001b[1m \u001b[0m\u001b[1m        Param #\u001b[0m\u001b[1m \u001b[0m┃\n",
       "┡━━━━━━━━━━━━━━━━━━━━━━━━━━━━━━━━━━━━━━╇━━━━━━━━━━━━━━━━━━━━━━━━━━━━━╇━━━━━━━━━━━━━━━━━┩\n",
       "│ input_layer (\u001b[38;5;33mInputLayer\u001b[0m)             │ (\u001b[38;5;45mNone\u001b[0m, \u001b[38;5;34m10\u001b[0m, \u001b[38;5;34m14\u001b[0m)              │               \u001b[38;5;34m0\u001b[0m │\n",
       "├──────────────────────────────────────┼─────────────────────────────┼─────────────────┤\n",
       "│ lstm (\u001b[38;5;33mLSTM\u001b[0m)                          │ (\u001b[38;5;45mNone\u001b[0m, \u001b[38;5;34m128\u001b[0m)                 │          \u001b[38;5;34m73,216\u001b[0m │\n",
       "├──────────────────────────────────────┼─────────────────────────────┼─────────────────┤\n",
       "│ repeat_vector (\u001b[38;5;33mRepeatVector\u001b[0m)         │ (\u001b[38;5;45mNone\u001b[0m, \u001b[38;5;34m10\u001b[0m, \u001b[38;5;34m128\u001b[0m)             │               \u001b[38;5;34m0\u001b[0m │\n",
       "├──────────────────────────────────────┼─────────────────────────────┼─────────────────┤\n",
       "│ lstm_1 (\u001b[38;5;33mLSTM\u001b[0m)                        │ (\u001b[38;5;45mNone\u001b[0m, \u001b[38;5;34m10\u001b[0m, \u001b[38;5;34m128\u001b[0m)             │         \u001b[38;5;34m131,584\u001b[0m │\n",
       "├──────────────────────────────────────┼─────────────────────────────┼─────────────────┤\n",
       "│ time_distributed (\u001b[38;5;33mTimeDistributed\u001b[0m)   │ (\u001b[38;5;45mNone\u001b[0m, \u001b[38;5;34m10\u001b[0m, \u001b[38;5;34m14\u001b[0m)              │           \u001b[38;5;34m1,806\u001b[0m │\n",
       "└──────────────────────────────────────┴─────────────────────────────┴─────────────────┘\n"
      ]
     },
     "metadata": {},
     "output_type": "display_data"
    },
    {
     "data": {
      "text/html": [
       "<pre style=\"white-space:pre;overflow-x:auto;line-height:normal;font-family:Menlo,'DejaVu Sans Mono',consolas,'Courier New',monospace\"><span style=\"font-weight: bold\"> Total params: </span><span style=\"color: #00af00; text-decoration-color: #00af00\">206,606</span> (807.05 KB)\n",
       "</pre>\n"
      ],
      "text/plain": [
       "\u001b[1m Total params: \u001b[0m\u001b[38;5;34m206,606\u001b[0m (807.05 KB)\n"
      ]
     },
     "metadata": {},
     "output_type": "display_data"
    },
    {
     "data": {
      "text/html": [
       "<pre style=\"white-space:pre;overflow-x:auto;line-height:normal;font-family:Menlo,'DejaVu Sans Mono',consolas,'Courier New',monospace\"><span style=\"font-weight: bold\"> Trainable params: </span><span style=\"color: #00af00; text-decoration-color: #00af00\">206,606</span> (807.05 KB)\n",
       "</pre>\n"
      ],
      "text/plain": [
       "\u001b[1m Trainable params: \u001b[0m\u001b[38;5;34m206,606\u001b[0m (807.05 KB)\n"
      ]
     },
     "metadata": {},
     "output_type": "display_data"
    },
    {
     "data": {
      "text/html": [
       "<pre style=\"white-space:pre;overflow-x:auto;line-height:normal;font-family:Menlo,'DejaVu Sans Mono',consolas,'Courier New',monospace\"><span style=\"font-weight: bold\"> Non-trainable params: </span><span style=\"color: #00af00; text-decoration-color: #00af00\">0</span> (0.00 B)\n",
       "</pre>\n"
      ],
      "text/plain": [
       "\u001b[1m Non-trainable params: \u001b[0m\u001b[38;5;34m0\u001b[0m (0.00 B)\n"
      ]
     },
     "metadata": {},
     "output_type": "display_data"
    }
   ],
   "source": [
    "# 构建序列自编码器模型\n",
    "\n",
    "from tensorflow.keras.models import Model\n",
    "from tensorflow.keras.layers import Input, LSTM, RepeatVector, TimeDistributed, Dense\n",
    "\n",
    "# 输入层\n",
    "input_seq = Input(shape=(timesteps, n_features))\n",
    "\n",
    "# 编码器部分\n",
    "encoded = LSTM(128, activation='relu')(input_seq)  # 将序列编码为128维\n",
    "encoded = RepeatVector(timesteps)(encoded)  # 将编码的向量重复，以进行解码\n",
    "\n",
    "# 解码器部分\n",
    "decoded = LSTM(128, return_sequences=True, activation='relu')(encoded)\n",
    "decoded = TimeDistributed(Dense(n_features))(decoded)  # 输出重构的时间序列\n",
    "\n",
    "# 构建自编码器模型\n",
    "autoencoder = Model(inputs=input_seq, outputs=decoded)\n",
    "autoencoder.compile(optimizer='adam', loss='mse')\n",
    "\n",
    "# 打印模型结构\n",
    "autoencoder.summary()"
   ]
  },
  {
   "cell_type": "code",
   "execution_count": 9,
   "id": "b14a3297",
   "metadata": {},
   "outputs": [
    {
     "name": "stdout",
     "output_type": "stream",
     "text": [
      "Epoch 1/50\n",
      "\u001b[1m75/75\u001b[0m \u001b[32m━━━━━━━━━━━━━━━━━━━━\u001b[0m\u001b[37m\u001b[0m \u001b[1m15s\u001b[0m 66ms/step - loss: 893473.1250 - val_loss: 164858.2969\n",
      "Epoch 2/50\n",
      "\u001b[1m75/75\u001b[0m \u001b[32m━━━━━━━━━━━━━━━━━━━━\u001b[0m\u001b[37m\u001b[0m \u001b[1m3s\u001b[0m 46ms/step - loss: 134203.3594 - val_loss: 68473.3594\n",
      "Epoch 3/50\n",
      "\u001b[1m75/75\u001b[0m \u001b[32m━━━━━━━━━━━━━━━━━━━━\u001b[0m\u001b[37m\u001b[0m \u001b[1m5s\u001b[0m 45ms/step - loss: 62705.1875 - val_loss: 29669.2031\n",
      "Epoch 4/50\n",
      "\u001b[1m75/75\u001b[0m \u001b[32m━━━━━━━━━━━━━━━━━━━━\u001b[0m\u001b[37m\u001b[0m \u001b[1m3s\u001b[0m 44ms/step - loss: 30028.7070 - val_loss: 65318.2734\n",
      "Epoch 5/50\n",
      "\u001b[1m75/75\u001b[0m \u001b[32m━━━━━━━━━━━━━━━━━━━━\u001b[0m\u001b[37m\u001b[0m \u001b[1m3s\u001b[0m 45ms/step - loss: 54189.5977 - val_loss: 19748.4375\n",
      "Epoch 6/50\n",
      "\u001b[1m75/75\u001b[0m \u001b[32m━━━━━━━━━━━━━━━━━━━━\u001b[0m\u001b[37m\u001b[0m \u001b[1m5s\u001b[0m 45ms/step - loss: 18581.8652 - val_loss: 14041.2168\n",
      "Epoch 7/50\n",
      "\u001b[1m75/75\u001b[0m \u001b[32m━━━━━━━━━━━━━━━━━━━━\u001b[0m\u001b[37m\u001b[0m \u001b[1m5s\u001b[0m 41ms/step - loss: 14712.2021 - val_loss: 12103.7773\n",
      "Epoch 8/50\n",
      "\u001b[1m75/75\u001b[0m \u001b[32m━━━━━━━━━━━━━━━━━━━━\u001b[0m\u001b[37m\u001b[0m \u001b[1m3s\u001b[0m 44ms/step - loss: 12281.3936 - val_loss: 12649.6582\n",
      "Epoch 9/50\n",
      "\u001b[1m75/75\u001b[0m \u001b[32m━━━━━━━━━━━━━━━━━━━━\u001b[0m\u001b[37m\u001b[0m \u001b[1m4s\u001b[0m 46ms/step - loss: 11919.9902 - val_loss: 9520.0254\n",
      "Epoch 10/50\n",
      "\u001b[1m75/75\u001b[0m \u001b[32m━━━━━━━━━━━━━━━━━━━━\u001b[0m\u001b[37m\u001b[0m \u001b[1m3s\u001b[0m 44ms/step - loss: 10514.0840 - val_loss: 8828.0869\n",
      "Epoch 11/50\n",
      "\u001b[1m75/75\u001b[0m \u001b[32m━━━━━━━━━━━━━━━━━━━━\u001b[0m\u001b[37m\u001b[0m \u001b[1m4s\u001b[0m 47ms/step - loss: 9197.7139 - val_loss: 8271.7236\n",
      "Epoch 12/50\n",
      "\u001b[1m75/75\u001b[0m \u001b[32m━━━━━━━━━━━━━━━━━━━━\u001b[0m\u001b[37m\u001b[0m \u001b[1m3s\u001b[0m 44ms/step - loss: 8569.3506 - val_loss: 8022.2202\n",
      "Epoch 13/50\n",
      "\u001b[1m75/75\u001b[0m \u001b[32m━━━━━━━━━━━━━━━━━━━━\u001b[0m\u001b[37m\u001b[0m \u001b[1m3s\u001b[0m 41ms/step - loss: 8277.8896 - val_loss: 7685.4883\n",
      "Epoch 14/50\n",
      "\u001b[1m75/75\u001b[0m \u001b[32m━━━━━━━━━━━━━━━━━━━━\u001b[0m\u001b[37m\u001b[0m \u001b[1m3s\u001b[0m 42ms/step - loss: 8201.0361 - val_loss: 7324.0068\n",
      "Epoch 15/50\n",
      "\u001b[1m75/75\u001b[0m \u001b[32m━━━━━━━━━━━━━━━━━━━━\u001b[0m\u001b[37m\u001b[0m \u001b[1m4s\u001b[0m 46ms/step - loss: 7787.9648 - val_loss: 7244.7578\n",
      "Epoch 16/50\n",
      "\u001b[1m75/75\u001b[0m \u001b[32m━━━━━━━━━━━━━━━━━━━━\u001b[0m\u001b[37m\u001b[0m \u001b[1m2s\u001b[0m 21ms/step - loss: 7542.0894 - val_loss: 6955.5288\n",
      "Epoch 17/50\n",
      "\u001b[1m75/75\u001b[0m \u001b[32m━━━━━━━━━━━━━━━━━━━━\u001b[0m\u001b[37m\u001b[0m \u001b[1m1s\u001b[0m 14ms/step - loss: 7216.4082 - val_loss: 6814.5171\n",
      "Epoch 18/50\n",
      "\u001b[1m75/75\u001b[0m \u001b[32m━━━━━━━━━━━━━━━━━━━━\u001b[0m\u001b[37m\u001b[0m \u001b[1m3s\u001b[0m 32ms/step - loss: 7300.7744 - val_loss: 6690.7866\n",
      "Epoch 19/50\n",
      "\u001b[1m75/75\u001b[0m \u001b[32m━━━━━━━━━━━━━━━━━━━━\u001b[0m\u001b[37m\u001b[0m \u001b[1m1s\u001b[0m 10ms/step - loss: 6855.7461 - val_loss: 6518.0303\n",
      "Epoch 20/50\n",
      "\u001b[1m75/75\u001b[0m \u001b[32m━━━━━━━━━━━━━━━━━━━━\u001b[0m\u001b[37m\u001b[0m \u001b[1m1s\u001b[0m 9ms/step - loss: 6853.3950 - val_loss: 6445.4214\n",
      "Epoch 21/50\n",
      "\u001b[1m75/75\u001b[0m \u001b[32m━━━━━━━━━━━━━━━━━━━━\u001b[0m\u001b[37m\u001b[0m \u001b[1m1s\u001b[0m 9ms/step - loss: 6716.6587 - val_loss: 6342.5571\n",
      "Epoch 22/50\n",
      "\u001b[1m75/75\u001b[0m \u001b[32m━━━━━━━━━━━━━━━━━━━━\u001b[0m\u001b[37m\u001b[0m \u001b[1m1s\u001b[0m 9ms/step - loss: 6771.9941 - val_loss: 6209.3745\n",
      "Epoch 23/50\n",
      "\u001b[1m75/75\u001b[0m \u001b[32m━━━━━━━━━━━━━━━━━━━━\u001b[0m\u001b[37m\u001b[0m \u001b[1m1s\u001b[0m 8ms/step - loss: 6627.6519 - val_loss: 6121.7324\n",
      "Epoch 24/50\n",
      "\u001b[1m75/75\u001b[0m \u001b[32m━━━━━━━━━━━━━━━━━━━━\u001b[0m\u001b[37m\u001b[0m \u001b[1m1s\u001b[0m 9ms/step - loss: 6447.6958 - val_loss: 6057.5093\n",
      "Epoch 25/50\n",
      "\u001b[1m75/75\u001b[0m \u001b[32m━━━━━━━━━━━━━━━━━━━━\u001b[0m\u001b[37m\u001b[0m \u001b[1m1s\u001b[0m 9ms/step - loss: 6516.7764 - val_loss: 5964.4238\n",
      "Epoch 26/50\n",
      "\u001b[1m75/75\u001b[0m \u001b[32m━━━━━━━━━━━━━━━━━━━━\u001b[0m\u001b[37m\u001b[0m \u001b[1m1s\u001b[0m 9ms/step - loss: 6458.6587 - val_loss: 5962.6602\n",
      "Epoch 27/50\n",
      "\u001b[1m75/75\u001b[0m \u001b[32m━━━━━━━━━━━━━━━━━━━━\u001b[0m\u001b[37m\u001b[0m \u001b[1m1s\u001b[0m 9ms/step - loss: 6191.0913 - val_loss: 5905.2480\n",
      "Epoch 28/50\n",
      "\u001b[1m75/75\u001b[0m \u001b[32m━━━━━━━━━━━━━━━━━━━━\u001b[0m\u001b[37m\u001b[0m \u001b[1m1s\u001b[0m 9ms/step - loss: 6072.2593 - val_loss: 5810.4287\n",
      "Epoch 29/50\n",
      "\u001b[1m75/75\u001b[0m \u001b[32m━━━━━━━━━━━━━━━━━━━━\u001b[0m\u001b[37m\u001b[0m \u001b[1m1s\u001b[0m 9ms/step - loss: 6280.0576 - val_loss: 5676.0581\n",
      "Epoch 30/50\n",
      "\u001b[1m75/75\u001b[0m \u001b[32m━━━━━━━━━━━━━━━━━━━━\u001b[0m\u001b[37m\u001b[0m \u001b[1m1s\u001b[0m 9ms/step - loss: 6072.9229 - val_loss: 5599.7124\n",
      "Epoch 31/50\n",
      "\u001b[1m75/75\u001b[0m \u001b[32m━━━━━━━━━━━━━━━━━━━━\u001b[0m\u001b[37m\u001b[0m \u001b[1m1s\u001b[0m 9ms/step - loss: 5951.0464 - val_loss: 5509.0415\n",
      "Epoch 32/50\n",
      "\u001b[1m75/75\u001b[0m \u001b[32m━━━━━━━━━━━━━━━━━━━━\u001b[0m\u001b[37m\u001b[0m \u001b[1m1s\u001b[0m 9ms/step - loss: 5822.3188 - val_loss: 5603.1191\n",
      "Epoch 33/50\n",
      "\u001b[1m75/75\u001b[0m \u001b[32m━━━━━━━━━━━━━━━━━━━━\u001b[0m\u001b[37m\u001b[0m \u001b[1m1s\u001b[0m 9ms/step - loss: 5688.2715 - val_loss: 5384.0234\n",
      "Epoch 34/50\n",
      "\u001b[1m75/75\u001b[0m \u001b[32m━━━━━━━━━━━━━━━━━━━━\u001b[0m\u001b[37m\u001b[0m \u001b[1m1s\u001b[0m 9ms/step - loss: 5578.4648 - val_loss: 5405.6055\n",
      "Epoch 35/50\n",
      "\u001b[1m75/75\u001b[0m \u001b[32m━━━━━━━━━━━━━━━━━━━━\u001b[0m\u001b[37m\u001b[0m \u001b[1m1s\u001b[0m 9ms/step - loss: 5631.1968 - val_loss: 5339.0732\n",
      "Epoch 36/50\n",
      "\u001b[1m75/75\u001b[0m \u001b[32m━━━━━━━━━━━━━━━━━━━━\u001b[0m\u001b[37m\u001b[0m \u001b[1m1s\u001b[0m 9ms/step - loss: 5535.4771 - val_loss: 5312.2397\n",
      "Epoch 37/50\n",
      "\u001b[1m75/75\u001b[0m \u001b[32m━━━━━━━━━━━━━━━━━━━━\u001b[0m\u001b[37m\u001b[0m \u001b[1m1s\u001b[0m 9ms/step - loss: 5500.7969 - val_loss: 5250.9014\n",
      "Epoch 38/50\n",
      "\u001b[1m75/75\u001b[0m \u001b[32m━━━━━━━━━━━━━━━━━━━━\u001b[0m\u001b[37m\u001b[0m \u001b[1m1s\u001b[0m 8ms/step - loss: 5504.0962 - val_loss: 5253.6206\n",
      "Epoch 39/50\n",
      "\u001b[1m75/75\u001b[0m \u001b[32m━━━━━━━━━━━━━━━━━━━━\u001b[0m\u001b[37m\u001b[0m \u001b[1m1s\u001b[0m 9ms/step - loss: 5284.6187 - val_loss: 5279.9385\n",
      "Epoch 40/50\n",
      "\u001b[1m75/75\u001b[0m \u001b[32m━━━━━━━━━━━━━━━━━━━━\u001b[0m\u001b[37m\u001b[0m \u001b[1m1s\u001b[0m 8ms/step - loss: 5416.1768 - val_loss: 5034.5571\n",
      "Epoch 41/50\n",
      "\u001b[1m75/75\u001b[0m \u001b[32m━━━━━━━━━━━━━━━━━━━━\u001b[0m\u001b[37m\u001b[0m \u001b[1m1s\u001b[0m 9ms/step - loss: 5339.8823 - val_loss: 4965.3701\n",
      "Epoch 42/50\n",
      "\u001b[1m75/75\u001b[0m \u001b[32m━━━━━━━━━━━━━━━━━━━━\u001b[0m\u001b[37m\u001b[0m \u001b[1m1s\u001b[0m 10ms/step - loss: 5226.3052 - val_loss: 5008.1572\n",
      "Epoch 43/50\n",
      "\u001b[1m75/75\u001b[0m \u001b[32m━━━━━━━━━━━━━━━━━━━━\u001b[0m\u001b[37m\u001b[0m \u001b[1m1s\u001b[0m 9ms/step - loss: 5188.2583 - val_loss: 4909.0967\n",
      "Epoch 44/50\n",
      "\u001b[1m75/75\u001b[0m \u001b[32m━━━━━━━━━━━━━━━━━━━━\u001b[0m\u001b[37m\u001b[0m \u001b[1m1s\u001b[0m 9ms/step - loss: 5102.4175 - val_loss: 4847.1016\n",
      "Epoch 45/50\n",
      "\u001b[1m75/75\u001b[0m \u001b[32m━━━━━━━━━━━━━━━━━━━━\u001b[0m\u001b[37m\u001b[0m \u001b[1m1s\u001b[0m 9ms/step - loss: 4980.1401 - val_loss: 4792.4556\n",
      "Epoch 46/50\n",
      "\u001b[1m75/75\u001b[0m \u001b[32m━━━━━━━━━━━━━━━━━━━━\u001b[0m\u001b[37m\u001b[0m \u001b[1m1s\u001b[0m 8ms/step - loss: 4892.5737 - val_loss: 4729.8896\n",
      "Epoch 47/50\n",
      "\u001b[1m75/75\u001b[0m \u001b[32m━━━━━━━━━━━━━━━━━━━━\u001b[0m\u001b[37m\u001b[0m \u001b[1m1s\u001b[0m 8ms/step - loss: 5060.5303 - val_loss: 4720.2407\n",
      "Epoch 48/50\n",
      "\u001b[1m75/75\u001b[0m \u001b[32m━━━━━━━━━━━━━━━━━━━━\u001b[0m\u001b[37m\u001b[0m \u001b[1m1s\u001b[0m 8ms/step - loss: 4920.6846 - val_loss: 4720.0649\n",
      "Epoch 49/50\n",
      "\u001b[1m75/75\u001b[0m \u001b[32m━━━━━━━━━━━━━━━━━━━━\u001b[0m\u001b[37m\u001b[0m \u001b[1m1s\u001b[0m 9ms/step - loss: 4909.7314 - val_loss: 4610.6108\n",
      "Epoch 50/50\n",
      "\u001b[1m75/75\u001b[0m \u001b[32m━━━━━━━━━━━━━━━━━━━━\u001b[0m\u001b[37m\u001b[0m \u001b[1m1s\u001b[0m 9ms/step - loss: 4961.7432 - val_loss: 4965.4307\n"
     ]
    },
    {
     "data": {
      "text/plain": [
       "<keras.src.callbacks.history.History at 0x1628a897090>"
      ]
     },
     "execution_count": 9,
     "metadata": {},
     "output_type": "execute_result"
    }
   ],
   "source": [
    "# 训练自编码器模型\n",
    "autoencoder.fit(X_train, X_train, epochs=50, batch_size=32, validation_data=(X_test, X_test))\n"
   ]
  },
  {
   "cell_type": "code",
   "execution_count": 10,
   "id": "b18ebb98",
   "metadata": {},
   "outputs": [
    {
     "name": "stdout",
     "output_type": "stream",
     "text": [
      "\u001b[1m19/19\u001b[0m \u001b[32m━━━━━━━━━━━━━━━━━━━━\u001b[0m\u001b[37m\u001b[0m \u001b[1m1s\u001b[0m 21ms/step\n"
     ]
    }
   ],
   "source": [
    "# 使用训练好的自编码器预测缺失值\n",
    "predicted_sequences = autoencoder.predict(X_test)\n",
    "\n",
    "# 将预测结果应用到缺失的数据上\n",
    "X_missing_filled = np.where(np.isnan(X_test), predicted_sequences, X_test)\n",
    "\n",
    "# X_missing_filled 现在是填补了缺失值的完整时间序列数据\n"
   ]
  },
  {
   "cell_type": "code",
   "execution_count": null,
   "id": "abe3d278",
   "metadata": {},
   "outputs": [],
   "source": []
  },
  {
   "cell_type": "markdown",
   "id": "2608d29b",
   "metadata": {},
   "source": [
    "### Z-score standardization"
   ]
  },
  {
   "cell_type": "code",
   "execution_count": null,
   "id": "229fee9a",
   "metadata": {},
   "outputs": [],
   "source": [
    "from sklearn.model_selection import train_test_split\n",
    "from sklearn.preprocessing import StandardScaler\n",
    "\n",
    "# 检查列的类型，保留数值型列\n",
    "numeric_cols = data_filled.select_dtypes(include=['float64', 'int64']).columns\n",
    "\n",
    "# 提取数值型特征集\n",
    "X = data_filled[numeric_cols].drop(columns=['Day_production'])  # 确保 Day_production 不在特征集中\n",
    "y = data_filled['Day_production']  # 响应变量\n",
    "\n",
    "# 使用 train_test_split 函数分割数据集\n",
    "X_train, X_test, y_train, y_test = train_test_split(X, y, test_size=0.2, random_state=42)\n",
    "\n",
    "# 对数据进行标准化处理\n",
    "scaler = StandardScaler()\n",
    "\n",
    "# 只在训练集上进行标准化拟合，并对训练集和测试集进行转换\n",
    "X_train_scaled = scaler.fit_transform(X_train)\n",
    "X_test_scaled = scaler.transform(X_test)\n",
    "\n",
    "# 结果转换为DataFrame\n",
    "X_train_scaled_df = pd.DataFrame(X_train_scaled, columns=X_train.columns)\n",
    "X_test_scaled_df = pd.DataFrame(X_test_scaled, columns=X_test.columns)\n",
    "\n",
    "# 显示训练集的一些数据\n",
    "print(\"Scaled Training Data:\")\n",
    "print(X_train_scaled_df.head())\n",
    "\n",
    "print(\"\\nTraining target variable:\")\n",
    "print(y_train.head())\n"
   ]
  },
  {
   "cell_type": "code",
   "execution_count": 1,
   "id": "d72f0eab",
   "metadata": {},
   "outputs": [
    {
     "name": "stdout",
     "output_type": "stream",
     "text": [
      "TensorFlow version: 2.17.0\n"
     ]
    }
   ],
   "source": []
  }
 ],
 "metadata": {
  "kernelspec": {
   "display_name": "Python 3 (ipykernel)",
   "language": "python",
   "name": "python3"
  },
  "language_info": {
   "codemirror_mode": {
    "name": "ipython",
    "version": 3
   },
   "file_extension": ".py",
   "mimetype": "text/x-python",
   "name": "python",
   "nbconvert_exporter": "python",
   "pygments_lexer": "ipython3",
   "version": "3.11.4"
  }
 },
 "nbformat": 4,
 "nbformat_minor": 5
}
